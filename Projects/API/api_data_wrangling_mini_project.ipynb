{
 "cells": [
  {
   "cell_type": "markdown",
   "metadata": {},
   "source": [
    "This exercise will require you to pull some data from the Qunadl API. Qaundl is currently the most widely used aggregator of financial market data."
   ]
  },
  {
   "cell_type": "markdown",
   "metadata": {},
   "source": [
    "As a first step, you will need to register a free account on the http://www.quandl.com website."
   ]
  },
  {
   "cell_type": "markdown",
   "metadata": {},
   "source": [
    "After you register, you will be provided with a unique API key, that you should store:"
   ]
  },
  {
   "cell_type": "code",
   "execution_count": 1,
   "metadata": {},
   "outputs": [],
   "source": [
    "# Store the API key as a string - according to PEP8, constants are always named in all upper case\n",
    "API_KEY = 'somekey'"
   ]
  },
  {
   "cell_type": "markdown",
   "metadata": {},
   "source": [
    "Qaundl has a large number of data sources, but, unfortunately, most of them require a Premium subscription. Still, there are also a good number of free datasets."
   ]
  },
  {
   "cell_type": "markdown",
   "metadata": {},
   "source": [
    "For this mini project, we will focus on equities data from the Frankfurt Stock Exhange (FSE), which is available for free. We'll try and analyze the stock prices of a company called Carl Zeiss Meditec, which manufactures tools for eye examinations, as well as medical lasers for laser eye surgery: https://www.zeiss.com/meditec/int/home.html. The company is listed under the stock ticker AFX_X."
   ]
  },
  {
   "cell_type": "markdown",
   "metadata": {},
   "source": [
    "You can find the detailed Quandl API instructions here: https://docs.quandl.com/docs/time-series"
   ]
  },
  {
   "cell_type": "markdown",
   "metadata": {},
   "source": [
    "While there is a dedicated Python package for connecting to the Quandl API, we would prefer that you use the *requests* package, which can be easily downloaded using *pip* or *conda*. You can find the documentation for the package here: http://docs.python-requests.org/en/master/ "
   ]
  },
  {
   "cell_type": "markdown",
   "metadata": {},
   "source": [
    "Finally, apart from the *requests* package, you are encouraged to not use any third party Python packages, such as *pandas*, and instead focus on what's available in the Python Standard Library (the *collections* module might come in handy: https://pymotw.com/3/collections/).\n",
    "Also, since you won't have access to DataFrames, you are encouraged to us Python's native data structures - preferably dictionaries, though some questions can also be answered using lists.\n",
    "You can read more on these data structures here: https://docs.python.org/3/tutorial/datastructures.html"
   ]
  },
  {
   "cell_type": "markdown",
   "metadata": {},
   "source": [
    "Keep in mind that the JSON responses you will be getting from the API map almost one-to-one to Python's dictionaries. Unfortunately, they can be very nested, so make sure you read up on indexing dictionaries in the documentation provided above."
   ]
  },
  {
   "cell_type": "code",
   "execution_count": 2,
   "metadata": {},
   "outputs": [],
   "source": [
    "# First, import the relevant modules\n",
    "import requests\n"
   ]
  },
  {
   "cell_type": "code",
   "execution_count": 3,
   "metadata": {},
   "outputs": [],
   "source": [
    "# Now, call the Quandl API and pull out a small sample of the data (only one day) to get a glimpse\n",
    "# into the JSON structure that will be returned\n",
    "# We request a small one day sample of the target data we can get in \"https://www.quandl.com/api/v3/datasets/FSE/AFX_X.json\"\n",
    "urlex = \"https://www.quandl.com/api/v3/datasets/FSE/AFX_X.json?start_date=2017-01-01&end_date=2017-01-02&api_key=somekey\"\n",
    "# We perform the request then convert the json file to a dict for ease of use\n",
    "r = requests.get(urlex)\n",
    "json_data = r.json()"
   ]
  },
  {
   "cell_type": "code",
   "execution_count": 4,
   "metadata": {},
   "outputs": [
    {
     "data": {
      "text/plain": [
       "{'dataset': {'id': 10095370,\n",
       "  'dataset_code': 'AFX_X',\n",
       "  'database_code': 'FSE',\n",
       "  'name': 'Carl Zeiss Meditec (AFX_X)',\n",
       "  'description': 'Stock Prices for Carl Zeiss Meditec (2019-07-17) from the Frankfurt Stock Exchange.<br><br>Trading System: Xetra<br><br>ISIN: DE0005313704',\n",
       "  'refreshed_at': '2019-07-31T22:20:12.302Z',\n",
       "  'newest_available_date': '2019-07-31',\n",
       "  'oldest_available_date': '2000-06-07',\n",
       "  'column_names': ['Date',\n",
       "   'Open',\n",
       "   'High',\n",
       "   'Low',\n",
       "   'Close',\n",
       "   'Change',\n",
       "   'Traded Volume',\n",
       "   'Turnover',\n",
       "   'Last Price of the Day',\n",
       "   'Daily Traded Units',\n",
       "   'Daily Turnover'],\n",
       "  'frequency': 'daily',\n",
       "  'type': 'Time Series',\n",
       "  'premium': False,\n",
       "  'limit': None,\n",
       "  'transform': None,\n",
       "  'column_index': None,\n",
       "  'start_date': '2017-01-01',\n",
       "  'end_date': '2017-01-02',\n",
       "  'data': [['2017-01-02',\n",
       "    34.99,\n",
       "    35.94,\n",
       "    34.99,\n",
       "    35.8,\n",
       "    None,\n",
       "    44700.0,\n",
       "    1590561.0,\n",
       "    None,\n",
       "    None,\n",
       "    None]],\n",
       "  'collapse': None,\n",
       "  'order': None,\n",
       "  'database_id': 6129}}"
      ]
     },
     "execution_count": 4,
     "metadata": {},
     "output_type": "execute_result"
    }
   ],
   "source": [
    "# Inspect the JSON structure of the object you created, and take note of how nested it is,\n",
    "# as well as the overall structure\n",
    "# We print each key-value pair\n",
    "json_data\n",
    "# We observe json_data has only 1 key 'dataset' that nests another dict, in this nested dict the key 'column_names' nests a list\n",
    "# also the key 'data' nests a list of lists, in this example this list of lists only contains one list as data for only one day\n",
    "# was requested"
   ]
  },
  {
   "cell_type": "markdown",
   "metadata": {},
   "source": [
    "These are your tasks for this mini project:\n",
    "\n",
    "1. Collect data from the Frankfurt Stock Exchange, for the ticker AFX_X, for the whole year 2017 (keep in mind that the date format is YYYY-MM-DD).\n",
    "2. Convert the returned JSON object into a Python dictionary.\n",
    "3. Calculate what the highest and lowest opening prices were for the stock in this period.\n",
    "4. What was the largest change in any one day (based on High and Low price)?\n",
    "5. What was the largest change between any two days (based on Closing Price)?\n",
    "6. What was the average daily trading volume during this year?\n",
    "7. (Optional) What was the median trading volume during this year. (Note: you may need to implement your own function for calculating the median.)"
   ]
  },
  {
   "cell_type": "code",
   "execution_count": 5,
   "metadata": {},
   "outputs": [],
   "source": [
    "# 1. Collect data from the Franfurt Stock Exchange, for the ticker AFX_X, for the whole year 2017 (keep in mind that the date format is YYYY-MM-DD).\n",
    "# we proceed as in the example this time filtering the entire 2017 data with start_date=2016-12-31&end_date=2017-12-31 arguments\n",
    "url = \"https://www.quandl.com/api/v3/datasets/FSE/AFX_X.json?start_date=2017-01-01&end_date=2017-12-31&api_key=somekey\"\n",
    "r = requests.get(url)\n",
    "json_data_2017 = r.json()"
   ]
  },
  {
   "cell_type": "code",
   "execution_count": 6,
   "metadata": {},
   "outputs": [],
   "source": [
    "# 2. Convert the returned JSON object into a Python dictionary.\n",
    "# We already converted the json data to a dict in the last line of the previous exercise but for ease of use we will zip the\n",
    "# 'column_names' values with their corresponding 'data' values into another dict.\n",
    "# To get the desired result we first transpose the list of lists in 'data'\n",
    "datalists = json_data_2017['dataset']['data']\n",
    "transdatalists = list(map(list, zip(*datalists)))\n",
    "# We can now zip the two lists to get a dict of the stock data for each day in 2017 we have data from\n",
    "AFX_X_2017 = dict(zip(json_data_2017['dataset']['column_names'], transdatalists))"
   ]
  },
  {
   "cell_type": "code",
   "execution_count": 7,
   "metadata": {},
   "outputs": [
    {
     "name": "stdout",
     "output_type": "stream",
     "text": [
      "The maximum opening value for 2017 was 53.11 in 2017-12-14 and the minimum was 34.0 in 2017-01-24.\n"
     ]
    }
   ],
   "source": [
    "# 3. Calculate what the highest and lowest opening prices were for the stock in this period.\n",
    "# We can get our target values by performing max() and min() operations on the 'Open' key-value pairs\n",
    "# we first remove the None values in order to use the max() min() operations\n",
    "clean_open = [i for i in AFX_X_2017['Open'] if i != None]\n",
    "# We find the maximum and minimum values\n",
    "high_open = max(clean_open)\n",
    "low_open = min(clean_open)\n",
    "# We find the corresponding date for each value\n",
    "date_high_open = AFX_X_2017['Date'][AFX_X_2017['Open'].index(high_open)]\n",
    "date_low_open = AFX_X_2017['Date'][AFX_X_2017['Open'].index(low_open)]\n",
    "print('The maximum opening value for 2017 was {} in {} and the minimum was {} in {}.'.format(high_open,date_high_open,low_open,date_low_open))"
   ]
  },
  {
   "cell_type": "code",
   "execution_count": 8,
   "metadata": {},
   "outputs": [
    {
     "name": "stdout",
     "output_type": "stream",
     "text": [
      "The maximum one day change in 2017 was 2.8100000000000023 in 2017-05-11.\n"
     ]
    }
   ],
   "source": [
    "# 4. What was the largest change in any one day (based on High and Low price)?\n",
    "# We create a change list with an element wise substraction of the high and low lists using a for loop since we cannot use \n",
    "# external packages like numpy in this exercise\n",
    "change = []\n",
    "for i in range(len(AFX_X_2017['High'])):\n",
    "    change.append(AFX_X_2017['High'][i] - AFX_X_2017['Low'][i])\n",
    "# We compute the maximum change and its corresponding date as we did in the previous exercise\n",
    "max_change = max(change)\n",
    "date_max_change = AFX_X_2017['Date'][change.index(max_change)]\n",
    "print('The maximum one day change in 2017 was {} in {}.'.format(max_change, date_max_change))"
   ]
  },
  {
   "cell_type": "code",
   "execution_count": 9,
   "metadata": {},
   "outputs": [
    {
     "name": "stdout",
     "output_type": "stream",
     "text": [
      "The maximum two day change in 2017 was 2.559999999999995 in 2017-08-09 to the next day.\n"
     ]
    }
   ],
   "source": [
    "# 5. What was the largest change between any two days (based on Closing Price)?\n",
    "# We can use a modified version of the operation we performed in exercise 5 to find the two day change, note this drops the last\n",
    "# value as we don't have data for the next day in that case\n",
    "two_day_change = []\n",
    "for i in range(len(AFX_X_2017['Close'])-1):\n",
    "    two_day_change.append(AFX_X_2017['Close'][i+1] - AFX_X_2017['Close'][i])\n",
    "# We compute the maximum two-day change and its corresponding date as we did in the previous exercise\n",
    "max_two_day_change = max(two_day_change)\n",
    "date_max_two_day_change = AFX_X_2017['Date'][two_day_change.index(max_two_day_change)]\n",
    "print('The maximum two day change in 2017 was {} in {} to the next day.'.format(max_two_day_change, date_max_two_day_change))"
   ]
  },
  {
   "cell_type": "code",
   "execution_count": 10,
   "metadata": {},
   "outputs": [
    {
     "name": "stdout",
     "output_type": "stream",
     "text": [
      "The average daily trading volume in 2017 was 89124.33725490196.\n"
     ]
    }
   ],
   "source": [
    "# 6. What was the average daily trading volume during this year?\n",
    "# We calculate the mean by dividing the sum of the elements by the number of elements.\n",
    "avg_trading = sum(AFX_X_2017['Traded Volume'])/len(AFX_X_2017['Traded Volume'])\n",
    "print('The average daily trading volume in 2017 was ' + str(avg_trading) + '.')"
   ]
  },
  {
   "cell_type": "code",
   "execution_count": 11,
   "metadata": {},
   "outputs": [
    {
     "name": "stdout",
     "output_type": "stream",
     "text": [
      "The median daily trading volume was 76286.0 in 2017-11-13.\n"
     ]
    }
   ],
   "source": [
    "# 7. What was the median trading volume during this year.\n",
    "# To calculate the median we first use the method .sort() to sort the list of trading volumes\n",
    "sorted_trading = sorted(AFX_X_2017['Traded Volume'])\n",
    "# With if-else statements we get the median if len is odd or compute the median if len is even\n",
    "if len(sorted_trading) % 2 == 1:\n",
    "    med_trading = sorted_trading[len(sorted_trading) // 2]\n",
    "    date_med_trading = AFX_X_2017['Date'][AFX_X_2017['Traded Volume'].index(med_trading)]\n",
    "    print('The median daily trading volume was {} in {}.'.format(med_trading,date_med_trading))\n",
    "else:\n",
    "    med_trading = (sorted_trading[len(sorted_trading) / 2] + sorted_trading[len(sorted_trading) / 2 - 1]) / 2\n",
    "    date_med_trading = AFX_X_2017['Date'][AFX_X_2017['Traded Volume'].index(sorted_trading[len(sorted_trading) / 2])]\n",
    "    print('The median daily trading volume was {} in {} and the previous day.'.format(med_trading,date_med_trading))"
   ]
  },
  {
   "cell_type": "code",
   "execution_count": null,
   "metadata": {},
   "outputs": [],
   "source": []
  }
 ],
 "metadata": {
  "kernelspec": {
   "display_name": "Python 3",
   "language": "python",
   "name": "python3"
  },
  "language_info": {
   "codemirror_mode": {
    "name": "ipython",
    "version": 3
   },
   "file_extension": ".py",
   "mimetype": "text/x-python",
   "name": "python",
   "nbconvert_exporter": "python",
   "pygments_lexer": "ipython3",
   "version": "3.7.0"
  }
 },
 "nbformat": 4,
 "nbformat_minor": 2
}
