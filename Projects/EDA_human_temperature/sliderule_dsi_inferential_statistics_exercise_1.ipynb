{
 "cells": [
  {
   "cell_type": "markdown",
   "metadata": {},
   "source": [
    "# What is the True Normal Human Body Temperature? \n",
    "\n",
    "#### Background\n",
    "\n",
    "The mean normal body temperature was held to be 37$^{\\circ}$C or 98.6$^{\\circ}$F for more than 120 years since it was first conceptualized and reported by Carl Wunderlich in a famous 1868 book. But, is this value statistically correct?"
   ]
  },
  {
   "cell_type": "markdown",
   "metadata": {},
   "source": [
    "<h3>Exercises</h3>\n",
    "\n",
    "<p>In this exercise, you will analyze a dataset of human body temperatures and employ the concepts of hypothesis testing, confidence intervals, and statistical significance.</p>\n",
    "\n",
    "<p>Answer the following questions <b>in this notebook below and submit to your Github account</b>.</p> \n",
    "\n",
    "<ol>\n",
    "<li>  Is the distribution of body temperatures normal? \n",
    "    <ul>\n",
    "    <li> Although this is not a requirement for the Central Limit Theorem to hold (read the introduction on Wikipedia's page about the CLT carefully: https://en.wikipedia.org/wiki/Central_limit_theorem), it gives us some peace of mind that the population may also be normally distributed if we assume that this sample is representative of the population.\n",
    "    <li> Think about the way you're going to check for the normality of the distribution. Graphical methods are usually used first, but there are also other ways: https://en.wikipedia.org/wiki/Normality_test\n",
    "    </ul>\n",
    "<li>  Is the sample size large? Are the observations independent?\n",
    "    <ul>\n",
    "    <li> Remember that this is a condition for the Central Limit Theorem, and hence the statistical tests we are using, to apply.\n",
    "    </ul>\n",
    "<li>  Is the true population mean really 98.6 degrees F?\n",
    "    <ul>\n",
    "    <li> First, try a bootstrap hypothesis test.\n",
    "    <li> Now, let's try frequentist statistical testing. Would you use a one-sample or two-sample test? Why?\n",
    "    <li> In this situation, is it appropriate to use the $t$ or $z$ statistic? \n",
    "    <li> Now try using the other test. How is the result be different? Why?\n",
    "    </ul>\n",
    "<li>  Draw a small sample of size 10 from the data and repeat both frequentist tests. \n",
    "    <ul>\n",
    "    <li> Which one is the correct one to use? \n",
    "    <li> What do you notice? What does this tell you about the difference in application of the $t$ and $z$ statistic?\n",
    "    </ul>\n",
    "<li>  At what temperature should we consider someone's temperature to be \"abnormal\"?\n",
    "    <ul>\n",
    "    <li> As in the previous example, try calculating everything using the boostrap approach, as well as the frequentist approach.\n",
    "    <li> Start by computing the margin of error and confidence interval. When calculating the confidence interval, keep in mind that you should use the appropriate formula for one draw, and not N draws.\n",
    "    </ul>\n",
    "<li>  Is there a significant difference between males and females in normal temperature?\n",
    "    <ul>\n",
    "    <li> What testing approach did you use and why?\n",
    "    <li> Write a story with your conclusion in the context of the original problem.\n",
    "    </ul>\n",
    "</ol>\n",
    "\n",
    "You can include written notes in notebook cells using Markdown: \n",
    "   - In the control panel at the top, choose Cell > Cell Type > Markdown\n",
    "   - Markdown syntax: http://nestacms.com/docs/creating-content/markdown-cheat-sheet\n",
    "\n",
    "#### Resources\n",
    "\n",
    "+ Information and data sources: http://www.amstat.org/publications/jse/datasets/normtemp.txt, http://www.amstat.org/publications/jse/jse_data_archive.htm\n",
    "+ Markdown syntax: http://nestacms.com/docs/creating-content/markdown-cheat-sheet\n",
    "\n",
    "****"
   ]
  },
  {
   "cell_type": "code",
   "execution_count": 1,
   "metadata": {},
   "outputs": [],
   "source": [
    "import pandas as pd\n",
    "import matplotlib.pyplot as plt\n",
    "import seaborn as sns\n",
    "from scipy import stats\n",
    "import numpy as np\n",
    "\n",
    "df = pd.read_csv('data/human_body_temperature.csv')"
   ]
  },
  {
   "cell_type": "code",
   "execution_count": 2,
   "metadata": {},
   "outputs": [
    {
     "data": {
      "text/plain": [
       "Text(0,0.5,'count')"
      ]
     },
     "execution_count": 2,
     "metadata": {},
     "output_type": "execute_result"
    },
    {
     "data": {
      "image/png": "[encoded data removed]",
      "text/plain": [
       "<Figure size 432x288 with 1 Axes>"
      ]
     },
     "metadata": {
      "needs_background": "light"
     },
     "output_type": "display_data"
    }
   ],
   "source": [
    "# 1. We first plot the data as a histogram to assess the normality of the distribution\n",
    "_ = plt.hist(df['temperature'], bins= 30)\n",
    "plt.xlabel('body temperature (deg F)')\n",
    "plt.ylabel('count')\n",
    "# Testing different bin sizes the data cannot be confidently asserted to be symetric or normaly distributed as it has many \n",
    "# outliers in the upper range of temperatures and possible squew"
   ]
  },
  {
   "cell_type": "code",
   "execution_count": 3,
   "metadata": {},
   "outputs": [
    {
     "data": {
      "image/png": "[encoded data removed]",
      "text/plain": [
       "<Figure size 432x288 with 1 Axes>"
      ]
     },
     "metadata": {
      "needs_background": "light"
     },
     "output_type": "display_data"
    }
   ],
   "source": [
    "# To avoid the binning issue we can display the data as an ECDF, which we will compare\n",
    "# Number of data points: n\n",
    "n = len(df['temperature'])\n",
    "\n",
    "# x-data for the ECDF: x, sorted temperature values\n",
    "x_temp = np.sort(df['temperature'])\n",
    "\n",
    "# y-data for the ECDF: y between 0 and 1\n",
    "y_temp = np.arange(1, n+1) / n\n",
    "\n",
    "# Generate plot\n",
    "plt.plot(x_temp, y_temp, marker= '.', linestyle = 'none', color= 'b')\n",
    "\n",
    "# Label the axes\n",
    "plt.xlabel('Temperature')\n",
    "plt.ylabel('ECDF')\n",
    "\n",
    "# Display the plot\n",
    "plt.show()\n",
    "\n",
    "# The ECDF seems roughly normal with a few extreme outliers, but we will use a few numerical tests to check with more certainty"
   ]
  },
  {
   "cell_type": "code",
   "execution_count": 4,
   "metadata": {},
   "outputs": [
    {
     "name": "stdout",
     "output_type": "stream",
     "text": [
      "Distribution most likely normal, all tests succeded\n",
      "Tests succeeded:\n",
      "['Shapiro-Wilk', 'K^2', 'Anderson-Darling']\n",
      "Total tests where null hypothesis was failed to be rejected = 7.000\n",
      "Total tests where null hypothesis was rejected = 0.000\n"
     ]
    }
   ],
   "source": [
    "# We can perform multiple statistical tests to find if the  human temperature distribution can be rejected as a normal\n",
    "# distribution in a function that counts the results of the tests\n",
    "def normality_tester(data):\n",
    "    \"\"\"Runs normality tests on data and prints the results\"\"\"\n",
    "    # we initialize the results counters\n",
    "    null_fail_reject_counter = 0\n",
    "    null_reject_counter = 0\n",
    "    test_fail_reject_name = []\n",
    "    test_reject_name = []\n",
    "    # we will employ the Shapiro-Wilk test, using the standard alpha value of 0.05 as we want to avoid either type 1 and 2 errors\n",
    "    stat, p = stats.shapiro(data)\n",
    "    # Interpretation, null hypothesis is that the distribution came from a normally distributed population\n",
    "    alpha = 0.05\n",
    "    if p > 0.05:\n",
    "        null_fail_reject_counter += 1\n",
    "        test_fail_reject_name.append('Shapiro-Wilk')\n",
    "    else:\n",
    "        null_reject_counter += 1\n",
    "        test_freject_name.append('Shapiro-Wilk')\n",
    "    # We will also perfor a D'Agostino's K^2 test to find skew or kurtosis that could be enough to reject the null hypothesis\n",
    "    stat, p = stats.normaltest(data)\n",
    "    # Interpretation, same alpha\n",
    "    if p > 0.05:\n",
    "        null_fail_reject_counter += 1\n",
    "        test_fail_reject_name.append('K^2')\n",
    "    else:\n",
    "        null_reject_counter += 1\n",
    "        test_freject_name.append('K^2')\n",
    "    # Just in case we could find any discrepancy we will employ another test the Anderson-Darling which we can employ \n",
    "    # in our case if the distribution could come from a normal distribution\n",
    "    result = stats.anderson(data)\n",
    "    p = 0\n",
    "    for i in range(len(result.critical_values)):\n",
    "        sl, cv = result.significance_level[i], result.critical_values[i]\n",
    "        if result.statistic < result.critical_values[i]:\n",
    "            null_fail_reject_counter += 1\n",
    "            test_fail_reject_name.append('Anderson-Darling')\n",
    "        else:\n",
    "            null_reject_counter += 1\n",
    "            test_reject_name.append('Anderson-Darling')\n",
    "    # We remove duplicates from lists\n",
    "    test_reject_name = list(dict.fromkeys(test_reject_name))\n",
    "    test_fail_reject_name = list(dict.fromkeys(test_fail_reject_name))\n",
    "    \n",
    "    if null_fail_reject_counter == 0:\n",
    "        print('Distribution most likely not normal, all tests failed')\n",
    "        print('Tests failed:')\n",
    "        print(test_reject_name)\n",
    "    if null_reject_counter == 0:\n",
    "        print('Distribution most likely normal, all tests succeded')\n",
    "        print('Tests succeeded:')\n",
    "        print(test_fail_reject_name)\n",
    "    elif null_fail_reject_counter > null_reject_counter:\n",
    "        print('Distribution probably normal, some tests failed')\n",
    "        print('Tests succeeded:')\n",
    "        print(test_fail_reject_name)\n",
    "        print('Tests failed:')\n",
    "        print(test_reject_name)\n",
    "    elif null_reject_counter > null_fail_reject_counter:\n",
    "        print('Distribution probably not normal, most tests failed')\n",
    "        print('Tests succeeded:')\n",
    "        print(test_fail_reject_name)\n",
    "        print('Tests failed:')\n",
    "        print(test_reject_name)\n",
    "    elif null_fail_reject_counter == null_reject_counter:\n",
    "        print('Results inconclussive, as many tests failed as succeeded')\n",
    "        print('Tests succeeded:')\n",
    "        print(test_fail_reject_name)\n",
    "        print('Tests failed:')\n",
    "        print(test_reject_name)\n",
    "    print('Total tests where null hypothesis was failed to be rejected = %.3f' % null_fail_reject_counter)\n",
    "    print('Total tests where null hypothesis was rejected = %.3f' % null_reject_counter)\n",
    "normality_tester(df['temperature'])"
   ]
  },
  {
   "cell_type": "code",
   "execution_count": 5,
   "metadata": {},
   "outputs": [
    {
     "data": {
      "text/html": [
       "<div>\n",
       "<style scoped>\n",
       "    .dataframe tbody tr th:only-of-type {\n",
       "        vertical-align: middle;\n",
       "    }\n",
       "\n",
       "    .dataframe tbody tr th {\n",
       "        vertical-align: top;\n",
       "    }\n",
       "\n",
       "    .dataframe thead th {\n",
       "        text-align: right;\n",
       "    }\n",
       "</style>\n",
       "<table border=\"1\" class=\"dataframe\">\n",
       "  <thead>\n",
       "    <tr style=\"text-align: right;\">\n",
       "      <th></th>\n",
       "      <th>temperature</th>\n",
       "      <th>heart_rate</th>\n",
       "    </tr>\n",
       "  </thead>\n",
       "  <tbody>\n",
       "    <tr>\n",
       "      <th>count</th>\n",
       "      <td>130.000000</td>\n",
       "      <td>130.000000</td>\n",
       "    </tr>\n",
       "    <tr>\n",
       "      <th>mean</th>\n",
       "      <td>98.249231</td>\n",
       "      <td>73.761538</td>\n",
       "    </tr>\n",
       "    <tr>\n",
       "      <th>std</th>\n",
       "      <td>0.733183</td>\n",
       "      <td>7.062077</td>\n",
       "    </tr>\n",
       "    <tr>\n",
       "      <th>min</th>\n",
       "      <td>96.300000</td>\n",
       "      <td>57.000000</td>\n",
       "    </tr>\n",
       "    <tr>\n",
       "      <th>25%</th>\n",
       "      <td>97.800000</td>\n",
       "      <td>69.000000</td>\n",
       "    </tr>\n",
       "    <tr>\n",
       "      <th>50%</th>\n",
       "      <td>98.300000</td>\n",
       "      <td>74.000000</td>\n",
       "    </tr>\n",
       "    <tr>\n",
       "      <th>75%</th>\n",
       "      <td>98.700000</td>\n",
       "      <td>79.000000</td>\n",
       "    </tr>\n",
       "    <tr>\n",
       "      <th>max</th>\n",
       "      <td>100.800000</td>\n",
       "      <td>89.000000</td>\n",
       "    </tr>\n",
       "  </tbody>\n",
       "</table>\n",
       "</div>"
      ],
      "text/plain": [
       "       temperature  heart_rate\n",
       "count   130.000000  130.000000\n",
       "mean     98.249231   73.761538\n",
       "std       0.733183    7.062077\n",
       "min      96.300000   57.000000\n",
       "25%      97.800000   69.000000\n",
       "50%      98.300000   74.000000\n",
       "75%      98.700000   79.000000\n",
       "max     100.800000   89.000000"
      ]
     },
     "execution_count": 5,
     "metadata": {},
     "output_type": "execute_result"
    }
   ],
   "source": [
    "# 2 according to the central limit theorem the sampling distribution of a sample means would approach a normal distribution\n",
    "# above 30 samples, we will look at the description of the sample\n",
    "df.describe()\n",
    "# As observed the sample has more than 30 elements at 130 thus the sample is large enough.\n",
    "# An appraisal of the study found in https://med.stanford.edu/content/dam/sm/epidemiology/documents/HRP236/Parsonnet---Critical-Appraisal-of-98.6F.pdf\n",
    "# States that the original study was made on 25000 individuals, thus the sample follows the 10% rule for sampling without\n",
    "# replacement, for the measurements to be considered independent."
   ]
  },
  {
   "cell_type": "code",
   "execution_count": 6,
   "metadata": {},
   "outputs": [
    {
     "name": "stdout",
     "output_type": "stream",
     "text": [
      "p =  0.0\n"
     ]
    }
   ],
   "source": [
    "# 3\n",
    "# Before we start our hypothesis testing we should set the significance level α which we will use as the benchmark at which we\n",
    "# should reject the null Hypothesis H0 if equal or bellow or fail to reject if above on our p value.\n",
    "\n",
    "# The significance level is usually set at 0.05 which me can change in order to avoid Type I errors (false positives) which we\n",
    "# reduce by lowering α, and to avoid Type II errors (false negatives) which we reduce by increasing α.\n",
    "\n",
    "# We use boostrap samples to run a bootstrap hypothesis test as in the example below by making a random choice with replacement\n",
    "# of our target sample data to produce a sample of the same length.\n",
    "bs_sample_temp = np.random.choice(df['temperature'], size = len(df['temperature']))\n",
    "# We create a function to find bootstrap sample replicates with our target function as illustrated in https://campus.datacamp.com/courses/statistical-thinking-in-python-part-2/bootstrap-confidence-intervals?ex=6\n",
    "def draw_bs_replicates(data, func, size=1):\n",
    "    \"\"\"Draw bootstrap replicates.\"\"\"\n",
    "\n",
    "    # Initialize array of replicates: bs_replicates\n",
    "    bs_replicates = np.empty(size)\n",
    "\n",
    "    # Generate replicates\n",
    "    for i in range(size):\n",
    "        bs_replicates[i] = func(np.random.choice(data, size=len(data)))\n",
    "\n",
    "    return bs_replicates\n",
    "# The null hypothesis is that the real mean body temperature is 98.6 degrees F and the alternative hypothesis is that it's \n",
    "# different, but we do not have the original population data thus to perform the bootstrap hypothesis test we translate our\n",
    "# sample distribution to have that mean\n",
    "translated_distribution = df['temperature'] - np.mean(df['temperature']) + 98.6\n",
    "# We thus have a distribution that has the target mean but the same standard deviation and number of elements of the original\n",
    "# sample.\n",
    "# We now take boostrap replicates of the mean of the translated sample\n",
    "bootstrap_rep = draw_bs_replicates(translated_distribution, np.mean, size=10000)\n",
    "# We now calculate the p value, as the mean of the sample is below we will calculate p for temperatures below the mean of the \n",
    "# sample \n",
    "p = np.sum(bootstrap_rep <= np.mean(df['temperature'])) / 10000\n",
    "\n",
    "# Print the p-value\n",
    "print('p = ', p)\n",
    "# The P value with the simulated population comes out as 0 meaning it is extremely unlikely for the sample to come from that\n",
    "# population thus with the bootstrap test we reject the null hypothesis that the true population mean is 98.6"
   ]
  },
  {
   "cell_type": "code",
   "execution_count": 7,
   "metadata": {},
   "outputs": [
    {
     "name": "stdout",
     "output_type": "stream",
     "text": [
      "The p value using the z statistic is 2.17615758294e-08\n"
     ]
    }
   ],
   "source": [
    "# We will use a one-sample test for this particular question as we are not comparing different groups in our sample but\n",
    "# comparing our entire sample to the null hypothesis.\n",
    "\n",
    "# as the sample size is greater than 30 we can estimate the z value with\n",
    "z = (np.mean(df['temperature']) - 98.6) * np.sqrt(130/np.var(df['temperature']))\n",
    "p = stats.norm.cdf(z)\n",
    "print('The p value using the z statistic is', p)"
   ]
  },
  {
   "cell_type": "code",
   "execution_count": 8,
   "metadata": {},
   "outputs": [
    {
     "name": "stdout",
     "output_type": "stream",
     "text": [
      "The p value using the t statistic is 1.0943732312e-07\n"
     ]
    }
   ],
   "source": [
    "# To calculate the one-sample t statistic we first proceed as before with the z statistic\n",
    "t = (np.mean(df['temperature']) - 98.6) * np.sqrt(130/np.var(df['temperature']))\n",
    "# But now we compute the degrees of freedom we will need to compute the p value\n",
    "deg_f = len(df['temperature']) - 1\n",
    "p = stats.t.cdf(t,df=deg_f)\n",
    "print('The p value using the t statistic is', p)"
   ]
  },
  {
   "cell_type": "code",
   "execution_count": 9,
   "metadata": {},
   "outputs": [
    {
     "name": "stdout",
     "output_type": "stream",
     "text": [
      "The p value using the z statistic on a sample size 10 is 0.00766118576662\n"
     ]
    }
   ],
   "source": [
    "# 4 we draw a small sample of 10 using the bootstrapping method and we calculate the z value as before\n",
    "z = (np.mean(np.random.choice(df['temperature'], size = 10)) - 98.6) * np.sqrt(10/np.var(df['temperature']))\n",
    "p = stats.norm.cdf(z)\n",
    "print('The p value using the z statistic on a sample size 10 is', p)"
   ]
  },
  {
   "cell_type": "code",
   "execution_count": 10,
   "metadata": {},
   "outputs": [
    {
     "name": "stdout",
     "output_type": "stream",
     "text": [
      "The p value using the t statistic on a sample size 10 is 0.215246042908\n"
     ]
    }
   ],
   "source": [
    "deg_f = 9\n",
    "bs_sample = np.random.choice(df['temperature'], size = 10)\n",
    "t = (np.mean(bs_sample) - 98.6) * np.sqrt(10/np.var(bs_sample))\n",
    "# But now we compute the degrees of freedom we will need to compute the p value\n",
    "p = stats.t.cdf(t,df=deg_f)\n",
    "print('The p value using the t statistic on a sample size 10 is', p)\n",
    "# with a sample as small as 10 wether done with or without replacement the resulting p value is very variable depending on the\n",
    "# resulting sample chosen, the central limit theorem still applies for t statistics as it does for z statistics"
   ]
  },
  {
   "cell_type": "code",
   "execution_count": 11,
   "metadata": {},
   "outputs": [
    {
     "data": {
      "text/plain": [
       "Text(0.5,0,'sample size')"
      ]
     },
     "execution_count": 11,
     "metadata": {},
     "output_type": "execute_result"
    },
    {
     "data": {
      "image/png": "[encoded data removed]",
      "text/plain": [
       "<Figure size 432x288 with 2 Axes>"
      ]
     },
     "metadata": {
      "needs_background": "light"
     },
     "output_type": "display_data"
    }
   ],
   "source": [
    "# To better see how much the result is affected by the small sample size for each, we will plot the average p value from 100\n",
    "# z and t statistics from 10 to 40 sample size to see how much the central limit theorem applies for both statistics\n",
    "sample_size = 10\n",
    "# Empty lists created for p value means\n",
    "p_z_mean = []\n",
    "p_t_mean = []\n",
    "while sample_size < 81:\n",
    "    # Empty lists for p value samples\n",
    "    p_z_list = []\n",
    "    p_t_list = []\n",
    "    for i in range(100):\n",
    "        # We calculate the p values with the z and t statistics as before and we append them to the lists\n",
    "        z = (np.mean(np.random.choice(df['temperature'], size = sample_size)) - 98.6) * np.sqrt(sample_size/np.var(df['temperature']))\n",
    "        p_z = stats.norm.cdf(z)\n",
    "        p_z_list.append(p_z)\n",
    "        bs_sample = np.random.choice(df['temperature'], size = sample_size)\n",
    "        t = (np.mean(bs_sample) - 98.6) * np.sqrt(sample_size/np.var(bs_sample))\n",
    "        p_t = stats.t.cdf(t,df=(sample_size - 1))\n",
    "        p_t_list.append(p_t)\n",
    "    # We calculate the mean of p values for each sample size and append them\n",
    "    p_z_mean.append(np.mean(p_z_list))\n",
    "    p_t_mean.append(np.mean(p_t_list))\n",
    "    sample_size = sample_size + 1\n",
    "\n",
    "# We create the subplots\n",
    "plt.subplot(1, 2, 1)\n",
    "plt.plot(range(10,81), p_z_mean, color='blue')\n",
    "plt.title('Z statistic')\n",
    "plt.xlabel('sample size')\n",
    "plt.ylabel('p value')\n",
    "plt.subplot(1, 2, 2)\n",
    "plt.plot(range(10,81), p_t_mean, color='red')\n",
    "plt.title('T statistic')\n",
    "plt.xlabel('sample size')\n",
    "# We see that both statistics start to flatline at a sample of about 30, the advantage of the t statistics over the z statistic\n",
    "# is that we don't need to know the population standard deviation or an approximation of it from a much larger sample to estimate\n",
    "# it, thus it would be better in case we didn't know the standard deviation of the sample of 130 people.\n",
    "# As we can see in the graphs, the central limit theorem is not perfect bust serves as a good rule of thumb in the same way as\n",
    "# choosing a p value of 0.5 as a standard, as we see on this case choosing an α of 0.01 would have caused what would likely be\n",
    "# Type II errors"
   ]
  },
  {
   "cell_type": "code",
   "execution_count": 12,
   "metadata": {},
   "outputs": [],
   "source": [
    "# 5 To find which temperature would be considered abnormal we will simulate a sampling distribution of the sample mean by using\n",
    "# the bootstrapping method as previously by creating what is called bootstrap repplicates\n",
    "# We create the function for bootstrap repplicates as it was shown in https://campus.datacamp.com/courses/statistical-thinking-in-python-part-2/bootstrap-confidence-intervals?ex=6\n",
    "def draw_bs_reps(data, func, size=1):\n",
    "    \"\"\"Draw bootstrap replicates.\"\"\"\n",
    "\n",
    "    # Initialize array of replicates: bs_replicates\n",
    "    bs_replicates = np.empty(size)\n",
    "\n",
    "    # Generate replicates\n",
    "    for i in range(size):\n",
    "        bs_replicates[i] = func(np.random.choice(data, size=len(data)))\n",
    "\n",
    "    return bs_replicates\n",
    "# We draw 10000 replicates of the sample\n",
    "bs_replicates = draw_bs_reps(df['temperature'], np.mean, size=10000)"
   ]
  },
  {
   "cell_type": "code",
   "execution_count": 13,
   "metadata": {},
   "outputs": [
    {
     "name": "stdout",
     "output_type": "stream",
     "text": [
      "The resulting 95% confidence interval using the bootstrap method is [ 98.12153846  98.37538462] with a margin of error of +- 0.126923076923\n"
     ]
    }
   ],
   "source": [
    "# We can compute a 95% confidence interval simply by calculating the 2.5 to 97.5 percentiles of the replicates\n",
    "conf_int_95 = np.percentile(bs_replicates, [2.5, 97.5])\n",
    "print('The resulting 95% confidence interval using the bootstrap method is', conf_int_95, 'with a margin of error of +-', (conf_int_95[1] - conf_int_95[0])/2)\n",
    "# As we can see, the margin of error is very small in this simulated population, slightly above 0.1 degrees F, also as we can see\n",
    "# from the description of the sample in exercise 2 over 50% of all the members are outside the 95% confidence interval, which could\n",
    "# be because the sample data has many outliers or the real population distribution is bimodal we will test this in the next exercise \n",
    "# allong gender lines"
   ]
  },
  {
   "cell_type": "code",
   "execution_count": 14,
   "metadata": {},
   "outputs": [
    {
     "name": "stdout",
     "output_type": "stream",
     "text": [
      "The resulting 95% confidence interval using the c statistic is [98.123682111456645, 98.37477942700491] with a margin of error of +- 0.125548657774\n"
     ]
    }
   ],
   "source": [
    "# Using the z statistic method we calculate the margin of error and 95% confidence interval\n",
    "# We don't have the population standard deviation but since the sample is way larger than 30 we can use the sample error\n",
    "# to calculate the standard error\n",
    "s_err = np.std(df['temperature'])/np.sqrt(len(df['temperature']))\n",
    "# We calculate the z critical value for 95% confidence interval\n",
    "z = stats.norm.ppf(0.975)\n",
    "# We calculate the margin of error which is the critical value by the standard error\n",
    "m_err = z * s_err\n",
    "# With the margin of error we calculate the confidence interval\n",
    "c_int = [np.mean(df['temperature']) - m_err, np.mean(df['temperature']) + m_err]\n",
    "print('The resulting 95% confidence interval using the c statistic is', c_int, 'with a margin of error of +-', m_err)"
   ]
  },
  {
   "cell_type": "code",
   "execution_count": 15,
   "metadata": {},
   "outputs": [
    {
     "name": "stdout",
     "output_type": "stream",
     "text": [
      "The resulting 95% confidence interval using the t statistic is [98.12249318821641, 98.375968350245145] with a margin of error of +- 0.126737581014\n"
     ]
    }
   ],
   "source": [
    "# We calculate the t critical value for 95% confidence interval with in this case 129 degrees of freedom\n",
    "t = stats.t.ppf(0.975, df=(len(df['temperature'])-1))\n",
    "# We calculate the margin of error which is the critical value by the standard error\n",
    "m_err_t = t * s_err\n",
    "# With the margin of error we calculate the confidence interval\n",
    "c_int_t = [np.mean(df['temperature']) - m_err_t, np.mean(df['temperature']) + m_err_t]\n",
    "print('The resulting 95% confidence interval using the t statistic is', c_int_t, 'with a margin of error of +-', m_err_t)\n",
    "# We see that using the t statistic the margin of error is closer to the bootstrap method than using the z statistic "
   ]
  },
  {
   "cell_type": "code",
   "execution_count": 16,
   "metadata": {},
   "outputs": [
    {
     "name": "stdout",
     "output_type": "stream",
     "text": [
      "The p value using the bootstrap method is 0.1009 thus the null hypothesis is failed to be rejected\n"
     ]
    }
   ],
   "source": [
    "# 6 Is there a significant difference between males and females in normal temperature?\n",
    "# To solve this problem we will use a two sample bootstrap approach which benefits from downplaying the influence of extreme\n",
    "# outliers in the study\n",
    "female_sample = df[df['gender'] == 'F']\n",
    "male_sample = df[df['gender'] == 'M']\n",
    "mean_temp = np.mean(df['temperature'])\n",
    "# We create the translated samples to have the same mean as the total population\n",
    "translated_female = female_sample['temperature'] - np.mean(female_sample['temperature']) + mean_temp\n",
    "translated_male = male_sample['temperature'] - np.mean(male_sample['temperature']) + mean_temp\n",
    "# We take bootstrap replicates of the translated samples\n",
    "bootstrap_trans_female = draw_bs_replicates(translated_female, np.mean, size=10000)\n",
    "bootstrap_trans_male = draw_bs_replicates(translated_male, np.mean, size=10000)\n",
    "# We perform the comparisons\n",
    "bootstrap_rep_trans = np.absolute(bootstrap_trans_female - bootstrap_trans_male)\n",
    "# We take the boostrap replicates of the empirical values and perform the comparisons\n",
    "bootstrap_emp_female = draw_bs_replicates(female_sample['temperature'], np.mean, size=10000)\n",
    "bootstrap_emp_male = draw_bs_replicates(male_sample['temperature'], np.mean, size=10000)\n",
    "bootstrap_rep_emp = np.absolute(bootstrap_emp_female - bootstrap_emp_male)\n",
    "# We perform the significance test\n",
    "p = np.sum(bootstrap_rep_trans >= bootstrap_rep_emp) / 10000\n",
    "print('The p value using the bootstrap method is', p, 'thus the null hypothesis is failed to be rejected')"
   ]
  },
  {
   "cell_type": "code",
   "execution_count": 17,
   "metadata": {},
   "outputs": [
    {
     "name": "stdout",
     "output_type": "stream",
     "text": [
      "The Cohen d test result is 0.405586664768 which is above 0.4 meaning the difference has a small significance.\n"
     ]
    }
   ],
   "source": [
    "male_sample_temp = male_sample['temperature']\n",
    "female_sample_tempt = female_sample['temperature']\n",
    "# We also perform a Cohen's d test to check if the difference in body temperature between males and females is significant enough\n",
    "# we perform the Cohen's d test on the two samples for which we have to first calculate the pooled standard deviation\n",
    "poolstd = np.sqrt(((len(male_sample_temp)-1)*np.var(male_sample_temp)+(len(female_sample_tempt)-1)*np.var(female_sample_tempt))/(len(male_sample_temp)+len(female_sample_tempt)-1))\n",
    "# we now calculate the Cohen's d test\n",
    "cohend = np.absolute((np.mean(male_sample_temp)-np.mean(female_sample_tempt))/poolstd)\n",
    "print('The Cohen d test result is', cohend, 'which is above 0.4 meaning the difference has a small significance.')"
   ]
  },
  {
   "cell_type": "code",
   "execution_count": 18,
   "metadata": {},
   "outputs": [],
   "source": [
    "# We could conclude that the statistical test fails to reject the null hypothesis that there is a significant difference between\n",
    "# males and females in body temperature statisticaly.\n",
    "# The Cohen's d test shows that there is a difference of small significance in body temperature between males and females in a\n",
    "# practical sense, with the caveat that the study includes 130 individuals which although large enough for the CLT it would\n",
    "# still benefit from an expansion in the study sample\n",
    "# This difference in body temperature could explain some of the oddities we encountered earlier"
   ]
  }
 ],
 "metadata": {
  "kernelspec": {
   "display_name": "Python 3",
   "language": "python",
   "name": "python3"
  },
  "language_info": {
   "codemirror_mode": {
    "name": "ipython",
    "version": 3
   },
   "file_extension": ".py",
   "mimetype": "text/x-python",
   "name": "python",
   "nbconvert_exporter": "python",
   "pygments_lexer": "ipython3",
   "version": "3.7.0"
  }
 },
 "nbformat": 4,
 "nbformat_minor": 1
}
