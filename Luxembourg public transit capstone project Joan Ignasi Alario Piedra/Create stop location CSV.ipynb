{
 "cells": [
  {
   "cell_type": "markdown",
   "metadata": {},
   "source": [
    "<p><span style=\"font-size: 16pt;\">Create stop location CSV</span></p>\n",
    "<p><span style=\"font-size: 11pt;\">In this notebook we project and clean up the 'df_stop_ID.csv' into a more workable csv file for the purpose of geolocation of public transport stops and stations.</span></p>"
   ]
  },
  {
   "cell_type": "code",
   "execution_count": 1,
   "metadata": {},
   "outputs": [
    {
     "data": {
      "text/html": [
       "<div>\n",
       "<style scoped>\n",
       "    .dataframe tbody tr th:only-of-type {\n",
       "        vertical-align: middle;\n",
       "    }\n",
       "\n",
       "    .dataframe tbody tr th {\n",
       "        vertical-align: top;\n",
       "    }\n",
       "\n",
       "    .dataframe thead th {\n",
       "        text-align: right;\n",
       "    }\n",
       "</style>\n",
       "<table border=\"1\" class=\"dataframe\">\n",
       "  <thead>\n",
       "    <tr style=\"text-align: right;\">\n",
       "      <th></th>\n",
       "      <th>id</th>\n",
       "      <th>O</th>\n",
       "      <th>X</th>\n",
       "      <th>Y</th>\n",
       "      <th>U</th>\n",
       "      <th>L</th>\n",
       "      <th>B</th>\n",
       "      <th>p</th>\n",
       "    </tr>\n",
       "  </thead>\n",
       "  <tbody>\n",
       "    <tr>\n",
       "      <th>0</th>\n",
       "      <td>id=A=1</td>\n",
       "      <td>O=Belair. Sacré-Coeur</td>\n",
       "      <td>X=6.113204</td>\n",
       "      <td>Y=49.610280</td>\n",
       "      <td>U=82</td>\n",
       "      <td>L=200403005</td>\n",
       "      <td>B=1</td>\n",
       "      <td>p=1547794313</td>\n",
       "    </tr>\n",
       "    <tr>\n",
       "      <th>1</th>\n",
       "      <td>id=A=1</td>\n",
       "      <td>O=Belair. Archiducs</td>\n",
       "      <td>X=6.112341</td>\n",
       "      <td>Y=49.612707</td>\n",
       "      <td>U=82</td>\n",
       "      <td>L=200403002</td>\n",
       "      <td>B=1</td>\n",
       "      <td>p=1547794313</td>\n",
       "    </tr>\n",
       "    <tr>\n",
       "      <th>2</th>\n",
       "      <td>id=A=1</td>\n",
       "      <td>O=Belair. Franciscaines</td>\n",
       "      <td>X=6.112970</td>\n",
       "      <td>Y=49.608275</td>\n",
       "      <td>U=82</td>\n",
       "      <td>L=200403007</td>\n",
       "      <td>B=1</td>\n",
       "      <td>p=1547794313</td>\n",
       "    </tr>\n",
       "    <tr>\n",
       "      <th>3</th>\n",
       "      <td>id=A=1</td>\n",
       "      <td>O=Belair. Amsterdam</td>\n",
       "      <td>X=6.108188</td>\n",
       "      <td>Y=49.612203</td>\n",
       "      <td>U=82</td>\n",
       "      <td>L=200403001</td>\n",
       "      <td>B=1</td>\n",
       "      <td>p=1547794313</td>\n",
       "    </tr>\n",
       "    <tr>\n",
       "      <th>4</th>\n",
       "      <td>id=A=1</td>\n",
       "      <td>O=Belair. Kierch</td>\n",
       "      <td>X=6.107613</td>\n",
       "      <td>Y=49.610702</td>\n",
       "      <td>U=82</td>\n",
       "      <td>L=200403010</td>\n",
       "      <td>B=1</td>\n",
       "      <td>p=1547794313</td>\n",
       "    </tr>\n",
       "  </tbody>\n",
       "</table>\n",
       "</div>"
      ],
      "text/plain": [
       "       id                        O           X            Y     U  \\\n",
       "0  id=A=1    O=Belair. Sacré-Coeur  X=6.113204  Y=49.610280  U=82   \n",
       "1  id=A=1      O=Belair. Archiducs  X=6.112341  Y=49.612707  U=82   \n",
       "2  id=A=1  O=Belair. Franciscaines  X=6.112970  Y=49.608275  U=82   \n",
       "3  id=A=1      O=Belair. Amsterdam  X=6.108188  Y=49.612203  U=82   \n",
       "4  id=A=1         O=Belair. Kierch  X=6.107613  Y=49.610702  U=82   \n",
       "\n",
       "             L    B             p  \n",
       "0  L=200403005  B=1  p=1547794313  \n",
       "1  L=200403002  B=1  p=1547794313  \n",
       "2  L=200403007  B=1  p=1547794313  \n",
       "3  L=200403001  B=1  p=1547794313  \n",
       "4  L=200403010  B=1  p=1547794313  "
      ]
     },
     "execution_count": 1,
     "metadata": {},
     "output_type": "execute_result"
    }
   ],
   "source": [
    "# We create a data frame from df_stop_ID.csv\n",
    "import pandas as pd\n",
    "df = pd.read_csv('Data\\public transport stop ID\\df_stop_ID.csv')\n",
    "df.head()"
   ]
  },
  {
   "cell_type": "code",
   "execution_count": 6,
   "metadata": {},
   "outputs": [
    {
     "data": {
      "text/html": [
       "<div>\n",
       "<style scoped>\n",
       "    .dataframe tbody tr th:only-of-type {\n",
       "        vertical-align: middle;\n",
       "    }\n",
       "\n",
       "    .dataframe tbody tr th {\n",
       "        vertical-align: top;\n",
       "    }\n",
       "\n",
       "    .dataframe thead th {\n",
       "        text-align: right;\n",
       "    }\n",
       "</style>\n",
       "<table border=\"1\" class=\"dataframe\">\n",
       "  <thead>\n",
       "    <tr style=\"text-align: right;\">\n",
       "      <th></th>\n",
       "      <th>Stop/Station Name</th>\n",
       "      <th>Longitude</th>\n",
       "      <th>Latitude</th>\n",
       "    </tr>\n",
       "  </thead>\n",
       "  <tbody>\n",
       "    <tr>\n",
       "      <th>0</th>\n",
       "      <td>Belair. Sacré-Coeur</td>\n",
       "      <td>6.113204</td>\n",
       "      <td>49.610280</td>\n",
       "    </tr>\n",
       "    <tr>\n",
       "      <th>1</th>\n",
       "      <td>Belair. Archiducs</td>\n",
       "      <td>6.112341</td>\n",
       "      <td>49.612707</td>\n",
       "    </tr>\n",
       "    <tr>\n",
       "      <th>2</th>\n",
       "      <td>Belair. Franciscaines</td>\n",
       "      <td>6.112970</td>\n",
       "      <td>49.608275</td>\n",
       "    </tr>\n",
       "    <tr>\n",
       "      <th>3</th>\n",
       "      <td>Belair. Amsterdam</td>\n",
       "      <td>6.108188</td>\n",
       "      <td>49.612203</td>\n",
       "    </tr>\n",
       "    <tr>\n",
       "      <th>4</th>\n",
       "      <td>Belair. Kierch</td>\n",
       "      <td>6.107613</td>\n",
       "      <td>49.610702</td>\n",
       "    </tr>\n",
       "  </tbody>\n",
       "</table>\n",
       "</div>"
      ],
      "text/plain": [
       "       Stop/Station Name Longitude   Latitude\n",
       "0    Belair. Sacré-Coeur  6.113204  49.610280\n",
       "1      Belair. Archiducs  6.112341  49.612707\n",
       "2  Belair. Franciscaines  6.112970  49.608275\n",
       "3      Belair. Amsterdam  6.108188  49.612203\n",
       "4         Belair. Kierch  6.107613  49.610702"
      ]
     },
     "execution_count": 6,
     "metadata": {},
     "output_type": "execute_result"
    }
   ],
   "source": [
    "# We are only interested 'O' for stop names, 'X' for longitude, 'Y' for latitude at the moment so we project and clean the values\n",
    "# in a new data frame\n",
    "clean_df = pd.DataFrame({'Stop/Station Name': df['O'].str.replace('O=', ''),'Longitude': df['X'].str.replace('X=', ''),'Latitude': df['Y'].str.replace('Y=', '')})\n",
    "clean_df.head()"
   ]
  },
  {
   "cell_type": "code",
   "execution_count": 10,
   "metadata": {},
   "outputs": [
    {
     "ename": "AttributeError",
     "evalue": "module 'pip' has no attribute 'main'",
     "output_type": "error",
     "traceback": [
      "\u001b[1;31m---------------------------------------------------------------------------\u001b[0m",
      "\u001b[1;31mModuleNotFoundError\u001b[0m                       Traceback (most recent call last)",
      "\u001b[1;32m<ipython-input-10-eb6057b45012>\u001b[0m in \u001b[0;36m<module>\u001b[1;34m()\u001b[0m\n\u001b[0;32m      3\u001b[0m \u001b[1;32mtry\u001b[0m\u001b[1;33m:\u001b[0m\u001b[1;33m\u001b[0m\u001b[0m\n\u001b[1;32m----> 4\u001b[1;33m     \u001b[1;32mimport\u001b[0m \u001b[0mfolium\u001b[0m\u001b[1;33m\u001b[0m\u001b[0m\n\u001b[0m\u001b[0;32m      5\u001b[0m \u001b[1;32mexcept\u001b[0m\u001b[1;33m:\u001b[0m\u001b[1;33m\u001b[0m\u001b[0m\n",
      "\u001b[1;31mModuleNotFoundError\u001b[0m: No module named 'folium'",
      "\nDuring handling of the above exception, another exception occurred:\n",
      "\u001b[1;31mAttributeError\u001b[0m                            Traceback (most recent call last)",
      "\u001b[1;32m<ipython-input-10-eb6057b45012>\u001b[0m in \u001b[0;36m<module>\u001b[1;34m()\u001b[0m\n\u001b[0;32m      5\u001b[0m \u001b[1;32mexcept\u001b[0m\u001b[1;33m:\u001b[0m\u001b[1;33m\u001b[0m\u001b[0m\n\u001b[0;32m      6\u001b[0m     \u001b[1;32mimport\u001b[0m \u001b[0mpip\u001b[0m\u001b[1;33m\u001b[0m\u001b[0m\n\u001b[1;32m----> 7\u001b[1;33m     \u001b[0mpip\u001b[0m\u001b[1;33m.\u001b[0m\u001b[0mmain\u001b[0m\u001b[1;33m(\u001b[0m\u001b[1;33m[\u001b[0m\u001b[1;34m'install'\u001b[0m\u001b[1;33m,\u001b[0m\u001b[1;34m'folium'\u001b[0m\u001b[1;33m]\u001b[0m\u001b[1;33m)\u001b[0m\u001b[1;33m\u001b[0m\u001b[0m\n\u001b[0m\u001b[0;32m      8\u001b[0m     \u001b[1;32mimport\u001b[0m \u001b[0mfolium\u001b[0m\u001b[1;33m\u001b[0m\u001b[0m\n\u001b[0;32m      9\u001b[0m \u001b[1;32mimport\u001b[0m \u001b[0mfolium\u001b[0m\u001b[1;33m\u001b[0m\u001b[0m\n",
      "\u001b[1;31mAttributeError\u001b[0m: module 'pip' has no attribute 'main'"
     ]
    }
   ],
   "source": [
    "# We can now take a look where those markers are in a map with folium, we will statrt by creating a map of Luxembourg and the\n",
    "# surrounding region.\n",
    "try:\n",
    "    import folium\n",
    "except:\n",
    "    import pip\n",
    "    pip.main(['install','folium'])\n",
    "    import folium\n",
    "import folium\n",
    "map_Lux = folium.Map(location=[49.5259473,5.084417], width=9600, height=5000)\n",
    "map_Lux"
   ]
  },
  {
   "cell_type": "code",
   "execution_count": null,
   "metadata": {},
   "outputs": [],
   "source": []
  }
 ],
 "metadata": {
  "kernelspec": {
   "display_name": "Python 3",
   "language": "python",
   "name": "python3"
  },
  "language_info": {
   "codemirror_mode": {
    "name": "ipython",
    "version": 3
   },
   "file_extension": ".py",
   "mimetype": "text/x-python",
   "name": "python",
   "nbconvert_exporter": "python",
   "pygments_lexer": "ipython3",
   "version": "3.7.0"
  }
 },
 "nbformat": 4,
 "nbformat_minor": 2
}
