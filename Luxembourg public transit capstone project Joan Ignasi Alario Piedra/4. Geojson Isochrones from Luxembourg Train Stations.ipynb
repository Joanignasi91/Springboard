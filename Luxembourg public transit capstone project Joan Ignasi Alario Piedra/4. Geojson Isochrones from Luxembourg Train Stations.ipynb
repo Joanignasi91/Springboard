{
 "cells": [
  {
   "cell_type": "code",
   "execution_count": 1,
   "metadata": {},
   "outputs": [],
   "source": [
    "# We import the appropriate libraries\n",
    "import osmnx as ox, networkx as nx, geopandas as gpd, matplotlib.pyplot as plt\n",
    "from shapely.geometry import Point, LineString, Polygon, mapping\n",
    "from descartes import PolygonPatch\n",
    "ox.config(log_console=True, use_cache=True)\n",
    "import pyproj\n",
    "import pandas as pd\n",
    "import json"
   ]
  },
  {
   "cell_type": "code",
   "execution_count": 2,
   "metadata": {},
   "outputs": [],
   "source": [
    "# We define the function that will calculate the isochrones for each minute on the prip time range and other criteria, translate\n",
    "# the resulting shapes into lat long from UTM, convert them to geojson and save the code on a dataframe along with descriptive\n",
    "# information for each shape\n",
    "def geojson_isochrones_luxembourg_trainstations(dataframe, network_type='walk', trip_times_range=31, travel_speed=4.5, distance=2500):\n",
    "    # We create a list of trip times from 1 to trip_times_range - 1 to iterate over\n",
    "    trip_times = [i for i in range(trip_times_range) if i > 0]\n",
    "    # We create an empty dataframe that once filled will be returned by the function, with name of the station, network type ('walk'\n",
    "    # or 'bike'), distance refering to size of map rendered during calculations, travel speed, trip time in minutes and the geojson\n",
    "    # shape\n",
    "    dfpolygons = pd.DataFrame(columns=['name', 'network_type', 'distance', 'speed', 'trip_time', 'geojson'])\n",
    "    # Initiate the index that will be used to fill the previous dataframe\n",
    "    polyindex = 0\n",
    "    # We iterate over the dataframe that has the list of names and locations of train stations\n",
    "    for index, row in dataframe.iterrows():\n",
    "        station = (dataframe['lat'][index], dataframe['long'][index])\n",
    "        # download the street network\n",
    "        G = ox.graph_from_point(station, distance=distance, network_type=network_type)\n",
    "        # find the centermost node and then project the graph to UTM\n",
    "        gdf_nodes = ox.graph_to_gdfs(G, edges=False)\n",
    "        x, y = gdf_nodes['geometry'].unary_union.centroid.xy\n",
    "        center_node = ox.get_nearest_node(G, (y[0], x[0]))\n",
    "        G = ox.project_graph(G)\n",
    "        # add an edge attribute for time in minutes required to traverse each edge\n",
    "        meters_per_minute = travel_speed * 1000 / 60 #km per hour to m per minute\n",
    "        # we set the weights of the edges to travel time in minutes\n",
    "        for u, v, k, data in G.edges(data=True, keys=True):\n",
    "            data['time'] = data['length'] / meters_per_minute\n",
    "        # We iterate of the trip times to calculate the isochrone for each trip time\n",
    "        for trip_time in sorted(trip_times, reverse=True):\n",
    "            subgraph = nx.ego_graph(G, center_node, radius=trip_time, distance='time')\n",
    "            node_points = [Point((data['x'], data['y'])) for node, data in subgraph.nodes(data=True)]\n",
    "            # We calculate the isochrone\n",
    "            bounding_poly = gpd.GeoSeries(node_points).unary_union.convex_hull\n",
    "            # We use pyproj to create a translator from UTM to lat long, as illustrated by user richard in https://stackoverflow.com/questions/6778288/lat-lon-to-utm-to-lat-lon-is-extremely-flawed-how-come\n",
    "            p = pyproj.Proj(proj='utm', zone=32, ellps='WGS84')\n",
    "            # We only translate and save the polygonal isochrone shapes discarding line and point shapes which would be hard to\n",
    "            # interpret on a map\n",
    "            if 'Polygon' in gpd.GeoSeries([bounding_poly]).to_json():                    \n",
    "                x,y = mapping(bounding_poly)['coordinates'][0][0]\n",
    "                p(x,y,inverse=True)\n",
    "                # we translate \n",
    "                new_mapping = []\n",
    "                for i in mapping(bounding_poly)['coordinates'][0]:\n",
    "                    x,y = i\n",
    "                    new_mapping.append(list(p(x,y,inverse=True)))\n",
    "                # We fit the new mappings on the geometry of a geojson polygon shape\n",
    "                new_geo_json = {\"type\": \"FeatureCollection\",\"features\": [{\"type\": \"Feature\",\"geometry\": {\"type\": \"Polygon\",\"coordinates\": [new_mapping]},\"properties\": {}}]}\n",
    "                # We save the translated isochrone with its parameters in the dataframe\n",
    "                dfpolygons.loc[polyindex] = [dataframe['name'][index], network_type, distance, travel_speed, trip_time, new_geo_json]\n",
    "                polyindex = polyindex + 1\n",
    "    return dfpolygons"
   ]
  },
  {
   "cell_type": "code",
   "execution_count": 3,
   "metadata": {},
   "outputs": [],
   "source": [
    "# We download the dataframe with the station coordinates\n",
    "dataframe = pd.read_csv('Data\\luxembourg_rail_coordinates.csv')"
   ]
  },
  {
   "cell_type": "code",
   "execution_count": 4,
   "metadata": {},
   "outputs": [],
   "source": [
    "# We configure a dataframe of isochrones with the standard configuration\n",
    "walk_2500_4point5_30 = geojson_isochrones_luxembourg_trainstations(dataframe)"
   ]
  },
  {
   "cell_type": "code",
   "execution_count": 5,
   "metadata": {},
   "outputs": [
    {
     "data": {
      "text/html": [
       "<div>\n",
       "<style scoped>\n",
       "    .dataframe tbody tr th:only-of-type {\n",
       "        vertical-align: middle;\n",
       "    }\n",
       "\n",
       "    .dataframe tbody tr th {\n",
       "        vertical-align: top;\n",
       "    }\n",
       "\n",
       "    .dataframe thead th {\n",
       "        text-align: right;\n",
       "    }\n",
       "</style>\n",
       "<table border=\"1\" class=\"dataframe\">\n",
       "  <thead>\n",
       "    <tr style=\"text-align: right;\">\n",
       "      <th></th>\n",
       "      <th>name</th>\n",
       "      <th>network_type</th>\n",
       "      <th>distance</th>\n",
       "      <th>speed</th>\n",
       "      <th>trip_time</th>\n",
       "      <th>geojson</th>\n",
       "    </tr>\n",
       "  </thead>\n",
       "  <tbody>\n",
       "    <tr>\n",
       "      <th>0</th>\n",
       "      <td>Luxembourg Gare Centrale</td>\n",
       "      <td>walk</td>\n",
       "      <td>2500</td>\n",
       "      <td>4.5</td>\n",
       "      <td>30</td>\n",
       "      <td>{'type': 'FeatureCollection', 'features': [{'t...</td>\n",
       "    </tr>\n",
       "    <tr>\n",
       "      <th>1</th>\n",
       "      <td>Luxembourg Gare Centrale</td>\n",
       "      <td>walk</td>\n",
       "      <td>2500</td>\n",
       "      <td>4.5</td>\n",
       "      <td>29</td>\n",
       "      <td>{'type': 'FeatureCollection', 'features': [{'t...</td>\n",
       "    </tr>\n",
       "    <tr>\n",
       "      <th>2</th>\n",
       "      <td>Luxembourg Gare Centrale</td>\n",
       "      <td>walk</td>\n",
       "      <td>2500</td>\n",
       "      <td>4.5</td>\n",
       "      <td>28</td>\n",
       "      <td>{'type': 'FeatureCollection', 'features': [{'t...</td>\n",
       "    </tr>\n",
       "    <tr>\n",
       "      <th>3</th>\n",
       "      <td>Luxembourg Gare Centrale</td>\n",
       "      <td>walk</td>\n",
       "      <td>2500</td>\n",
       "      <td>4.5</td>\n",
       "      <td>27</td>\n",
       "      <td>{'type': 'FeatureCollection', 'features': [{'t...</td>\n",
       "    </tr>\n",
       "    <tr>\n",
       "      <th>4</th>\n",
       "      <td>Luxembourg Gare Centrale</td>\n",
       "      <td>walk</td>\n",
       "      <td>2500</td>\n",
       "      <td>4.5</td>\n",
       "      <td>26</td>\n",
       "      <td>{'type': 'FeatureCollection', 'features': [{'t...</td>\n",
       "    </tr>\n",
       "  </tbody>\n",
       "</table>\n",
       "</div>"
      ],
      "text/plain": [
       "                       name network_type distance  speed trip_time  \\\n",
       "0  Luxembourg Gare Centrale         walk     2500    4.5        30   \n",
       "1  Luxembourg Gare Centrale         walk     2500    4.5        29   \n",
       "2  Luxembourg Gare Centrale         walk     2500    4.5        28   \n",
       "3  Luxembourg Gare Centrale         walk     2500    4.5        27   \n",
       "4  Luxembourg Gare Centrale         walk     2500    4.5        26   \n",
       "\n",
       "                                             geojson  \n",
       "0  {'type': 'FeatureCollection', 'features': [{'t...  \n",
       "1  {'type': 'FeatureCollection', 'features': [{'t...  \n",
       "2  {'type': 'FeatureCollection', 'features': [{'t...  \n",
       "3  {'type': 'FeatureCollection', 'features': [{'t...  \n",
       "4  {'type': 'FeatureCollection', 'features': [{'t...  "
      ]
     },
     "execution_count": 5,
     "metadata": {},
     "output_type": "execute_result"
    }
   ],
   "source": [
    "walk_2500_4point5_30.head()"
   ]
  },
  {
   "cell_type": "code",
   "execution_count": 6,
   "metadata": {},
   "outputs": [],
   "source": [
    "# We save the dataframe\n",
    "walk_2500_4point5_30.to_csv('Data\\luxembourg_trainstations_isochrones_walk_2500_4-5_30.csv',index='geojson')"
   ]
  },
  {
   "cell_type": "code",
   "execution_count": 7,
   "metadata": {},
   "outputs": [],
   "source": [
    "# We configure a dataframe of isochrones for cycling transportation moving at twice the speed thus we meed to render maps twice\n",
    "# the distance meaning 4 times the area for the calculations of isochrones\n",
    "bike_5000_9_30 = geojson_isochrones_luxembourg_trainstations(dataframe, network_type='bike', travel_speed=9, distance=5000)"
   ]
  },
  {
   "cell_type": "code",
   "execution_count": 8,
   "metadata": {},
   "outputs": [
    {
     "data": {
      "text/html": [
       "<div>\n",
       "<style scoped>\n",
       "    .dataframe tbody tr th:only-of-type {\n",
       "        vertical-align: middle;\n",
       "    }\n",
       "\n",
       "    .dataframe tbody tr th {\n",
       "        vertical-align: top;\n",
       "    }\n",
       "\n",
       "    .dataframe thead th {\n",
       "        text-align: right;\n",
       "    }\n",
       "</style>\n",
       "<table border=\"1\" class=\"dataframe\">\n",
       "  <thead>\n",
       "    <tr style=\"text-align: right;\">\n",
       "      <th></th>\n",
       "      <th>name</th>\n",
       "      <th>network_type</th>\n",
       "      <th>distance</th>\n",
       "      <th>speed</th>\n",
       "      <th>trip_time</th>\n",
       "      <th>geojson</th>\n",
       "    </tr>\n",
       "  </thead>\n",
       "  <tbody>\n",
       "    <tr>\n",
       "      <th>0</th>\n",
       "      <td>Luxembourg Gare Centrale</td>\n",
       "      <td>bike</td>\n",
       "      <td>5000</td>\n",
       "      <td>9</td>\n",
       "      <td>30</td>\n",
       "      <td>{'type': 'FeatureCollection', 'features': [{'t...</td>\n",
       "    </tr>\n",
       "    <tr>\n",
       "      <th>1</th>\n",
       "      <td>Luxembourg Gare Centrale</td>\n",
       "      <td>bike</td>\n",
       "      <td>5000</td>\n",
       "      <td>9</td>\n",
       "      <td>29</td>\n",
       "      <td>{'type': 'FeatureCollection', 'features': [{'t...</td>\n",
       "    </tr>\n",
       "    <tr>\n",
       "      <th>2</th>\n",
       "      <td>Luxembourg Gare Centrale</td>\n",
       "      <td>bike</td>\n",
       "      <td>5000</td>\n",
       "      <td>9</td>\n",
       "      <td>28</td>\n",
       "      <td>{'type': 'FeatureCollection', 'features': [{'t...</td>\n",
       "    </tr>\n",
       "    <tr>\n",
       "      <th>3</th>\n",
       "      <td>Luxembourg Gare Centrale</td>\n",
       "      <td>bike</td>\n",
       "      <td>5000</td>\n",
       "      <td>9</td>\n",
       "      <td>27</td>\n",
       "      <td>{'type': 'FeatureCollection', 'features': [{'t...</td>\n",
       "    </tr>\n",
       "    <tr>\n",
       "      <th>4</th>\n",
       "      <td>Luxembourg Gare Centrale</td>\n",
       "      <td>bike</td>\n",
       "      <td>5000</td>\n",
       "      <td>9</td>\n",
       "      <td>26</td>\n",
       "      <td>{'type': 'FeatureCollection', 'features': [{'t...</td>\n",
       "    </tr>\n",
       "  </tbody>\n",
       "</table>\n",
       "</div>"
      ],
      "text/plain": [
       "                       name network_type distance speed trip_time  \\\n",
       "0  Luxembourg Gare Centrale         bike     5000     9        30   \n",
       "1  Luxembourg Gare Centrale         bike     5000     9        29   \n",
       "2  Luxembourg Gare Centrale         bike     5000     9        28   \n",
       "3  Luxembourg Gare Centrale         bike     5000     9        27   \n",
       "4  Luxembourg Gare Centrale         bike     5000     9        26   \n",
       "\n",
       "                                             geojson  \n",
       "0  {'type': 'FeatureCollection', 'features': [{'t...  \n",
       "1  {'type': 'FeatureCollection', 'features': [{'t...  \n",
       "2  {'type': 'FeatureCollection', 'features': [{'t...  \n",
       "3  {'type': 'FeatureCollection', 'features': [{'t...  \n",
       "4  {'type': 'FeatureCollection', 'features': [{'t...  "
      ]
     },
     "execution_count": 8,
     "metadata": {},
     "output_type": "execute_result"
    }
   ],
   "source": [
    "bike_5000_9_30.head()"
   ]
  },
  {
   "cell_type": "code",
   "execution_count": 9,
   "metadata": {},
   "outputs": [],
   "source": [
    "bike_5000_9_30.to_csv('Data\\luxembourg_trainstations_isochrones_bike_5000_9_30.csv',index='geojson')"
   ]
  },
  {
   "cell_type": "code",
   "execution_count": 10,
   "metadata": {},
   "outputs": [],
   "source": [
    "# We select and configure a geojson for representation in folium as would be done when configuring the final selection of isochrones\n",
    "# to display, in this example it is an isochrone for the area 5 minutes walking + train distance from the initial station\n",
    "geojson_for_representation = walk_2500_4point5_30.loc[walk_2500_4point5_30['trip_time'] == 5]\n",
    "geojson_for_representation = geojson_for_representation.loc[geojson_for_representation['name']=='Pfaffenthal-Kirchberg', 'geojson'].values[0]"
   ]
  },
  {
   "cell_type": "code",
   "execution_count": 11,
   "metadata": {},
   "outputs": [],
   "source": [
    "# We reconfigure the features for this selection\n",
    "geojson_for_representation['features'][0]['properties'] = {\"description\": \"travel time zone 5 mins\",\n",
    "                                      \"fill\": \"#ff2500\",\n",
    "                                      \"fill_opacity\": 0.5}"
   ]
  },
  {
   "cell_type": "code",
   "execution_count": 12,
   "metadata": {},
   "outputs": [],
   "source": [
    "from bokeh.io import output_file, show\n",
    "from bokeh.models import GeoJSONDataSource\n",
    "from bokeh.plotting import figure"
   ]
  },
  {
   "cell_type": "code",
   "execution_count": 13,
   "metadata": {},
   "outputs": [],
   "source": [
    "# We transform our geojson structured code into geojson to be read by folium\n",
    "geo_source = GeoJSONDataSource(geojson=json.dumps(geojson_for_representation))"
   ]
  },
  {
   "cell_type": "code",
   "execution_count": 14,
   "metadata": {},
   "outputs": [],
   "source": [
    "import folium\n",
    "\n",
    "map_Lux = folium.Map(location=[49.5259473,6.084417], width=1800, height=1800)"
   ]
  },
  {
   "cell_type": "code",
   "execution_count": 15,
   "metadata": {},
   "outputs": [
    {
     "data": {
      "text/plain": [
       "<folium.features.GeoJson at 0x202a1af5e80>"
      ]
     },
     "execution_count": 15,
     "metadata": {},
     "output_type": "execute_result"
    }
   ],
   "source": [
    "folium.GeoJson(json.dumps(geojson_for_representation), name='geojson').add_to(map_Lux)"
   ]
  },
  {
   "cell_type": "code",
   "execution_count": 16,
   "metadata": {},
   "outputs": [
    {
     "data": {
      "text/html": [
       "<div style=\"width:100%;\"><div style=\"position:relative;width:100%;height:0;padding-bottom:60%;\"><iframe src=\"data:text/html;charset=utf-8;base64,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\" style=\"position:absolute;width:100%;height:100%;left:0;top:0;border:none !important;\" allowfullscreen webkitallowfullscreen mozallowfullscreen></iframe></div></div>"
      ],
      "text/plain": [
       "<folium.folium.Map at 0x202ac22c208>"
      ]
     },
     "execution_count": 16,
     "metadata": {},
     "output_type": "execute_result"
    }
   ],
   "source": [
    "map_Lux"
   ]
  },
  {
   "cell_type": "code",
   "execution_count": null,
   "metadata": {},
   "outputs": [],
   "source": []
  }
 ],
 "metadata": {
  "kernelspec": {
   "display_name": "Python 3",
   "language": "python",
   "name": "python3"
  },
  "language_info": {
   "codemirror_mode": {
    "name": "ipython",
    "version": 3
   },
   "file_extension": ".py",
   "mimetype": "text/x-python",
   "name": "python",
   "nbconvert_exporter": "python",
   "pygments_lexer": "ipython3",
   "version": "3.7.0"
  }
 },
 "nbformat": 4,
 "nbformat_minor": 2
}
